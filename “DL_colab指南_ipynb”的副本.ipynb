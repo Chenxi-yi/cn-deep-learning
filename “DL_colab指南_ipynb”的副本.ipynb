{
  "nbformat": 4,
  "nbformat_minor": 0,
  "metadata": {
    "colab": {
      "name": "“DL_colab指南.ipynb”的副本",
      "version": "0.3.2",
      "provenance": [],
      "include_colab_link": true
    },
    "kernelspec": {
      "name": "python3",
      "display_name": "Python 3"
    },
    "accelerator": "GPU"
  },
  "cells": [
    {
      "cell_type": "markdown",
      "metadata": {
        "id": "view-in-github",
        "colab_type": "text"
      },
      "source": [
        "<a href=\"https://colab.research.google.com/github/Chenxi-yi/cn-deep-learning/blob/master/%E2%80%9CDL_colab%E6%8C%87%E5%8D%97_ipynb%E2%80%9D%E7%9A%84%E5%89%AF%E6%9C%AC.ipynb\" target=\"_parent\"><img src=\"https://colab.research.google.com/assets/colab-badge.svg\" alt=\"Open In Colab\"/></a>"
      ]
    },
    {
      "cell_type": "code",
      "metadata": {
        "id": "HEPg15DzOcQv",
        "colab_type": "code",
        "outputId": "26faf11d-2899-45c4-9c4e-6d9913e14e2b",
        "colab": {
          "base_uri": "https://localhost:8080/",
          "height": 88
        }
      },
      "source": [
        "import tensorflow as tf\n",
        "from tensorflow import keras\n",
        "from keras.models import Sequential\n",
        "print (tf.__version__)\n",
        "\n",
        "# output is 1.12.0-rc1\n",
        "import sklearn\n",
        "import numpy as np\n",
        "print (sklearn.__version__)\n",
        "print (np.__version__)"
      ],
      "execution_count": 1,
      "outputs": [
        {
          "output_type": "stream",
          "text": [
            "1.14.0-rc1\n",
            "0.21.2\n",
            "1.16.4\n"
          ],
          "name": "stdout"
        },
        {
          "output_type": "stream",
          "text": [
            "Using TensorFlow backend.\n"
          ],
          "name": "stderr"
        }
      ]
    },
    {
      "cell_type": "code",
      "metadata": {
        "id": "qipyuxriOnsn",
        "colab_type": "code",
        "outputId": "7ab5b12f-715a-40d8-9e51-de20ad165e58",
        "colab": {
          "base_uri": "https://localhost:8080/",
          "height": 4055
        }
      },
      "source": [
        "\"\"\"### 使用mnist数据集做测试\"\"\"\n",
        "\n",
        "(train_images, train_labels), (test_images, test_labels) =  keras.datasets.mnist.load_data()\n",
        "print (train_images.shape, test_images.shape)\n",
        "print (train_labels.max(), test_labels.min())\n",
        "\n",
        "# 打乱数据集, 因为keras validation_split的时候并不会随机抽取数据\n",
        "#np.random.seed(1)\n",
        "train_indexes = np.arange(0, train_images.shape[0])\n",
        "np.random.shuffle(train_indexes)\n",
        "train_images = train_images[train_indexes]\n",
        "train_labels = train_labels[train_indexes]\n",
        "\n",
        "# 设置网络结构, 设置损失函数,优化器,评估指标等等\n",
        "def create_model():\n",
        "  model = tf.keras.models.Sequential([\n",
        "    keras.layers.Flatten(input_shape=(28,28)),\n",
        "    keras.layers.Dense(128, activation=tf.nn.relu),\n",
        "    keras.layers.Dense(10, activation=tf.nn.softmax)\n",
        "    ])\n",
        "\n",
        "  model.compile(\n",
        "    optimizer = tf.keras.optimizers.Adam(),\n",
        "    loss = tf.keras.losses.sparse_categorical_crossentropy,\n",
        "    metrics=['accuracy'])\n",
        "  return model\n",
        "\n",
        "# 创建模型\n",
        "model = create_model()\n",
        "print (model.summary())\n",
        "\n",
        "# 训练模型\n",
        "history = model.fit(train_images, train_labels, epochs=100, batch_size=512, validation_split = 0.1) \n",
        "\n",
        "# 在测试集上评估模型\n",
        "print (model.evaluate(test_images, test_labels))\n",
        "\n",
        "# 保存模型,注意这里的模型保存在的是colab环境中,需要下载\n",
        "model.save('mnist_model.h5')"
      ],
      "execution_count": 0,
      "outputs": [
        {
          "output_type": "stream",
          "text": [
            "Downloading data from https://storage.googleapis.com/tensorflow/tf-keras-datasets/mnist.npz\n",
            "11493376/11490434 [==============================] - 0s 0us/step\n"
          ],
          "name": "stdout"
        },
        {
          "output_type": "stream",
          "text": [
            "WARNING: Logging before flag parsing goes to stderr.\n",
            "W0617 11:45:58.171322 140149634373504 deprecation.py:506] From /usr/local/lib/python3.6/dist-packages/tensorflow/python/ops/init_ops.py:1251: calling VarianceScaling.__init__ (from tensorflow.python.ops.init_ops) with dtype is deprecated and will be removed in a future version.\n",
            "Instructions for updating:\n",
            "Call initializer instance with the dtype argument instead of passing it to the constructor\n"
          ],
          "name": "stderr"
        },
        {
          "output_type": "stream",
          "text": [
            "(60000, 28, 28) (10000, 28, 28)\n",
            "9 0\n",
            "Model: \"sequential\"\n",
            "_________________________________________________________________\n",
            "Layer (type)                 Output Shape              Param #   \n",
            "=================================================================\n",
            "flatten (Flatten)            (None, 784)               0         \n",
            "_________________________________________________________________\n",
            "dense (Dense)                (None, 128)               100480    \n",
            "_________________________________________________________________\n",
            "dense_1 (Dense)              (None, 10)                1290      \n",
            "=================================================================\n",
            "Total params: 101,770\n",
            "Trainable params: 101,770\n",
            "Non-trainable params: 0\n",
            "_________________________________________________________________\n",
            "None\n",
            "Train on 54000 samples, validate on 6000 samples\n",
            "Epoch 1/100\n",
            "54000/54000 [==============================] - 1s 22us/sample - loss: 10.7142 - acc: 0.8142 - val_loss: 2.9521 - val_acc: 0.8950\n",
            "Epoch 2/100\n",
            "54000/54000 [==============================] - 0s 7us/sample - loss: 2.0436 - acc: 0.9142 - val_loss: 1.7556 - val_acc: 0.9173\n",
            "Epoch 3/100\n",
            "54000/54000 [==============================] - 0s 7us/sample - loss: 1.2057 - acc: 0.9329 - val_loss: 1.3794 - val_acc: 0.9247\n",
            "Epoch 4/100\n",
            "54000/54000 [==============================] - 0s 7us/sample - loss: 0.8226 - acc: 0.9440 - val_loss: 1.1102 - val_acc: 0.9335\n",
            "Epoch 5/100\n",
            "54000/54000 [==============================] - 0s 7us/sample - loss: 0.5916 - acc: 0.9549 - val_loss: 1.0079 - val_acc: 0.9337\n",
            "Epoch 6/100\n",
            "54000/54000 [==============================] - 0s 6us/sample - loss: 0.4486 - acc: 0.9609 - val_loss: 0.8663 - val_acc: 0.9430\n",
            "Epoch 7/100\n",
            "54000/54000 [==============================] - 0s 6us/sample - loss: 0.3477 - acc: 0.9664 - val_loss: 0.8498 - val_acc: 0.9435\n",
            "Epoch 8/100\n",
            "54000/54000 [==============================] - 0s 6us/sample - loss: 0.2631 - acc: 0.9724 - val_loss: 0.8028 - val_acc: 0.9445\n",
            "Epoch 9/100\n",
            "54000/54000 [==============================] - 0s 6us/sample - loss: 0.2140 - acc: 0.9751 - val_loss: 0.7360 - val_acc: 0.9488\n",
            "Epoch 10/100\n",
            "54000/54000 [==============================] - 0s 7us/sample - loss: 0.1680 - acc: 0.9785 - val_loss: 0.6919 - val_acc: 0.9500\n",
            "Epoch 11/100\n",
            "54000/54000 [==============================] - 0s 6us/sample - loss: 0.1318 - acc: 0.9808 - val_loss: 0.7137 - val_acc: 0.9518\n",
            "Epoch 12/100\n",
            "54000/54000 [==============================] - 0s 7us/sample - loss: 0.1133 - acc: 0.9822 - val_loss: 0.6406 - val_acc: 0.9547\n",
            "Epoch 13/100\n",
            "54000/54000 [==============================] - 0s 6us/sample - loss: 0.0895 - acc: 0.9850 - val_loss: 0.6432 - val_acc: 0.9543\n",
            "Epoch 14/100\n",
            "54000/54000 [==============================] - 0s 7us/sample - loss: 0.0779 - acc: 0.9865 - val_loss: 0.6810 - val_acc: 0.9545\n",
            "Epoch 15/100\n",
            "54000/54000 [==============================] - 0s 7us/sample - loss: 0.0707 - acc: 0.9868 - val_loss: 0.6591 - val_acc: 0.9542\n",
            "Epoch 16/100\n",
            "54000/54000 [==============================] - 0s 7us/sample - loss: 0.0590 - acc: 0.9884 - val_loss: 0.5970 - val_acc: 0.9547\n",
            "Epoch 17/100\n",
            "54000/54000 [==============================] - 0s 6us/sample - loss: 0.0560 - acc: 0.9887 - val_loss: 0.6137 - val_acc: 0.9568\n",
            "Epoch 18/100\n",
            "54000/54000 [==============================] - 0s 7us/sample - loss: 0.0487 - acc: 0.9896 - val_loss: 0.5781 - val_acc: 0.9570\n",
            "Epoch 19/100\n",
            "54000/54000 [==============================] - 0s 6us/sample - loss: 0.0512 - acc: 0.9897 - val_loss: 0.6228 - val_acc: 0.9590\n",
            "Epoch 20/100\n",
            "54000/54000 [==============================] - 0s 6us/sample - loss: 0.0409 - acc: 0.9908 - val_loss: 0.5875 - val_acc: 0.9602\n",
            "Epoch 21/100\n",
            "54000/54000 [==============================] - 0s 6us/sample - loss: 0.0387 - acc: 0.9919 - val_loss: 0.5979 - val_acc: 0.9583\n",
            "Epoch 22/100\n",
            "54000/54000 [==============================] - 0s 6us/sample - loss: 0.0572 - acc: 0.9891 - val_loss: 0.6286 - val_acc: 0.9607\n",
            "Epoch 23/100\n",
            "54000/54000 [==============================] - 0s 6us/sample - loss: 0.0528 - acc: 0.9903 - val_loss: 0.5741 - val_acc: 0.9617\n",
            "Epoch 24/100\n",
            "54000/54000 [==============================] - 0s 6us/sample - loss: 0.0538 - acc: 0.9897 - val_loss: 0.5756 - val_acc: 0.9610\n",
            "Epoch 25/100\n",
            "54000/54000 [==============================] - 0s 6us/sample - loss: 0.0544 - acc: 0.9904 - val_loss: 0.5978 - val_acc: 0.9613\n",
            "Epoch 26/100\n",
            "54000/54000 [==============================] - 0s 6us/sample - loss: 0.0415 - acc: 0.9922 - val_loss: 0.6352 - val_acc: 0.9588\n",
            "Epoch 27/100\n",
            "54000/54000 [==============================] - 0s 7us/sample - loss: 0.0443 - acc: 0.9916 - val_loss: 0.6360 - val_acc: 0.9587\n",
            "Epoch 28/100\n",
            "54000/54000 [==============================] - 0s 7us/sample - loss: 0.0448 - acc: 0.9919 - val_loss: 0.5580 - val_acc: 0.9627\n",
            "Epoch 29/100\n",
            "54000/54000 [==============================] - 0s 6us/sample - loss: 0.0469 - acc: 0.9912 - val_loss: 0.6155 - val_acc: 0.9630\n",
            "Epoch 30/100\n",
            "54000/54000 [==============================] - 0s 6us/sample - loss: 0.0422 - acc: 0.9918 - val_loss: 0.6315 - val_acc: 0.9605\n",
            "Epoch 31/100\n",
            "54000/54000 [==============================] - 0s 7us/sample - loss: 0.0514 - acc: 0.9911 - val_loss: 0.5645 - val_acc: 0.9638\n",
            "Epoch 32/100\n",
            "54000/54000 [==============================] - 0s 6us/sample - loss: 0.0358 - acc: 0.9932 - val_loss: 0.6303 - val_acc: 0.9623\n",
            "Epoch 33/100\n",
            "54000/54000 [==============================] - 0s 7us/sample - loss: 0.0547 - acc: 0.9909 - val_loss: 0.5607 - val_acc: 0.9655\n",
            "Epoch 34/100\n",
            "54000/54000 [==============================] - 0s 6us/sample - loss: 0.0484 - acc: 0.9918 - val_loss: 0.6544 - val_acc: 0.9618\n",
            "Epoch 35/100\n",
            "54000/54000 [==============================] - 0s 7us/sample - loss: 0.0535 - acc: 0.9911 - val_loss: 0.6351 - val_acc: 0.9605\n",
            "Epoch 36/100\n",
            "54000/54000 [==============================] - 0s 7us/sample - loss: 0.0603 - acc: 0.9904 - val_loss: 0.5606 - val_acc: 0.9647\n",
            "Epoch 37/100\n",
            "54000/54000 [==============================] - 0s 6us/sample - loss: 0.0654 - acc: 0.9901 - val_loss: 0.5908 - val_acc: 0.9643\n",
            "Epoch 38/100\n",
            "54000/54000 [==============================] - 0s 6us/sample - loss: 0.0530 - acc: 0.9921 - val_loss: 0.6143 - val_acc: 0.9652\n",
            "Epoch 39/100\n",
            "54000/54000 [==============================] - 0s 6us/sample - loss: 0.0587 - acc: 0.9912 - val_loss: 0.6029 - val_acc: 0.9635\n",
            "Epoch 40/100\n",
            "54000/54000 [==============================] - 0s 6us/sample - loss: 0.0539 - acc: 0.9919 - val_loss: 0.5702 - val_acc: 0.9680\n",
            "Epoch 41/100\n",
            "54000/54000 [==============================] - 0s 6us/sample - loss: 0.0379 - acc: 0.9934 - val_loss: 0.5840 - val_acc: 0.9647\n",
            "Epoch 42/100\n",
            "54000/54000 [==============================] - 0s 6us/sample - loss: 0.0329 - acc: 0.9941 - val_loss: 0.5703 - val_acc: 0.9663\n",
            "Epoch 43/100\n",
            "54000/54000 [==============================] - 0s 6us/sample - loss: 0.0383 - acc: 0.9939 - val_loss: 0.5959 - val_acc: 0.9668\n",
            "Epoch 44/100\n",
            "54000/54000 [==============================] - 0s 6us/sample - loss: 0.0377 - acc: 0.9938 - val_loss: 0.6527 - val_acc: 0.9668\n",
            "Epoch 45/100\n",
            "54000/54000 [==============================] - 0s 6us/sample - loss: 0.0462 - acc: 0.9931 - val_loss: 0.5903 - val_acc: 0.9677\n",
            "Epoch 46/100\n",
            "54000/54000 [==============================] - 0s 6us/sample - loss: 0.0530 - acc: 0.9926 - val_loss: 0.5863 - val_acc: 0.9677\n",
            "Epoch 47/100\n",
            "54000/54000 [==============================] - 0s 6us/sample - loss: 0.0558 - acc: 0.9920 - val_loss: 0.6602 - val_acc: 0.9653\n",
            "Epoch 48/100\n",
            "54000/54000 [==============================] - 0s 6us/sample - loss: 0.0566 - acc: 0.9920 - val_loss: 0.6222 - val_acc: 0.9653\n",
            "Epoch 49/100\n",
            "54000/54000 [==============================] - 0s 6us/sample - loss: 0.0423 - acc: 0.9935 - val_loss: 0.6147 - val_acc: 0.9632\n",
            "Epoch 50/100\n",
            "54000/54000 [==============================] - 0s 7us/sample - loss: 0.0457 - acc: 0.9933 - val_loss: 0.5941 - val_acc: 0.9690\n",
            "Epoch 51/100\n",
            "54000/54000 [==============================] - 0s 6us/sample - loss: 0.0404 - acc: 0.9941 - val_loss: 0.6230 - val_acc: 0.9710\n",
            "Epoch 52/100\n",
            "54000/54000 [==============================] - 0s 6us/sample - loss: 0.0347 - acc: 0.9946 - val_loss: 0.6035 - val_acc: 0.9695\n",
            "Epoch 53/100\n",
            "54000/54000 [==============================] - 0s 6us/sample - loss: 0.0408 - acc: 0.9942 - val_loss: 0.6541 - val_acc: 0.9703\n",
            "Epoch 54/100\n",
            "54000/54000 [==============================] - 0s 6us/sample - loss: 0.0428 - acc: 0.9940 - val_loss: 0.5966 - val_acc: 0.9708\n",
            "Epoch 55/100\n",
            "54000/54000 [==============================] - 0s 6us/sample - loss: 0.0465 - acc: 0.9939 - val_loss: 0.6192 - val_acc: 0.9672\n",
            "Epoch 56/100\n",
            "54000/54000 [==============================] - 0s 6us/sample - loss: 0.0461 - acc: 0.9937 - val_loss: 0.5894 - val_acc: 0.9715\n",
            "Epoch 57/100\n",
            "54000/54000 [==============================] - 0s 6us/sample - loss: 0.0249 - acc: 0.9960 - val_loss: 0.5800 - val_acc: 0.9698\n",
            "Epoch 58/100\n",
            "54000/54000 [==============================] - 0s 6us/sample - loss: 0.0225 - acc: 0.9962 - val_loss: 0.5523 - val_acc: 0.9678\n",
            "Epoch 59/100\n",
            "54000/54000 [==============================] - 0s 6us/sample - loss: 0.0326 - acc: 0.9950 - val_loss: 0.6057 - val_acc: 0.9692\n",
            "Epoch 60/100\n",
            "54000/54000 [==============================] - 0s 7us/sample - loss: 0.0355 - acc: 0.9949 - val_loss: 0.5624 - val_acc: 0.9723\n",
            "Epoch 61/100\n",
            "54000/54000 [==============================] - 0s 6us/sample - loss: 0.0489 - acc: 0.9934 - val_loss: 0.6819 - val_acc: 0.9638\n",
            "Epoch 62/100\n",
            "54000/54000 [==============================] - 0s 6us/sample - loss: 0.0830 - acc: 0.9903 - val_loss: 0.7324 - val_acc: 0.9670\n",
            "Epoch 63/100\n",
            "54000/54000 [==============================] - 0s 6us/sample - loss: 0.0561 - acc: 0.9929 - val_loss: 0.5599 - val_acc: 0.9712\n",
            "Epoch 64/100\n",
            "54000/54000 [==============================] - 0s 6us/sample - loss: 0.0354 - acc: 0.9946 - val_loss: 0.5742 - val_acc: 0.9725\n",
            "Epoch 65/100\n",
            "54000/54000 [==============================] - 0s 7us/sample - loss: 0.0235 - acc: 0.9964 - val_loss: 0.5035 - val_acc: 0.9727\n",
            "Epoch 66/100\n",
            "54000/54000 [==============================] - 0s 6us/sample - loss: 0.0246 - acc: 0.9961 - val_loss: 0.5840 - val_acc: 0.9733\n",
            "Epoch 67/100\n",
            "54000/54000 [==============================] - 0s 6us/sample - loss: 0.0315 - acc: 0.9955 - val_loss: 0.6259 - val_acc: 0.9698\n",
            "Epoch 68/100\n",
            "54000/54000 [==============================] - 0s 7us/sample - loss: 0.0352 - acc: 0.9954 - val_loss: 0.5879 - val_acc: 0.9710\n",
            "Epoch 69/100\n",
            "54000/54000 [==============================] - 0s 6us/sample - loss: 0.0421 - acc: 0.9948 - val_loss: 0.6926 - val_acc: 0.9705\n",
            "Epoch 70/100\n",
            "54000/54000 [==============================] - 0s 6us/sample - loss: 0.0428 - acc: 0.9946 - val_loss: 0.5960 - val_acc: 0.9697\n",
            "Epoch 71/100\n",
            "54000/54000 [==============================] - 0s 7us/sample - loss: 0.0431 - acc: 0.9943 - val_loss: 0.6054 - val_acc: 0.9705\n",
            "Epoch 72/100\n",
            "54000/54000 [==============================] - 0s 7us/sample - loss: 0.0365 - acc: 0.9954 - val_loss: 0.5915 - val_acc: 0.9727\n",
            "Epoch 73/100\n",
            "54000/54000 [==============================] - 0s 6us/sample - loss: 0.0313 - acc: 0.9956 - val_loss: 0.6427 - val_acc: 0.9710\n",
            "Epoch 74/100\n",
            "54000/54000 [==============================] - 0s 6us/sample - loss: 0.0479 - acc: 0.9942 - val_loss: 0.6274 - val_acc: 0.9728\n",
            "Epoch 75/100\n",
            "54000/54000 [==============================] - 0s 6us/sample - loss: 0.0360 - acc: 0.9958 - val_loss: 0.5855 - val_acc: 0.9748\n",
            "Epoch 76/100\n",
            "54000/54000 [==============================] - 0s 6us/sample - loss: 0.0272 - acc: 0.9963 - val_loss: 0.6129 - val_acc: 0.9728\n",
            "Epoch 77/100\n",
            "54000/54000 [==============================] - 0s 7us/sample - loss: 0.0270 - acc: 0.9965 - val_loss: 0.5967 - val_acc: 0.9750\n",
            "Epoch 78/100\n",
            "54000/54000 [==============================] - 0s 6us/sample - loss: 0.0263 - acc: 0.9966 - val_loss: 0.5683 - val_acc: 0.9742\n",
            "Epoch 79/100\n",
            "54000/54000 [==============================] - 0s 6us/sample - loss: 0.0347 - acc: 0.9955 - val_loss: 0.6597 - val_acc: 0.9722\n",
            "Epoch 80/100\n",
            "54000/54000 [==============================] - 0s 7us/sample - loss: 0.0397 - acc: 0.9952 - val_loss: 0.5638 - val_acc: 0.9747\n",
            "Epoch 81/100\n",
            "54000/54000 [==============================] - 0s 6us/sample - loss: 0.0229 - acc: 0.9966 - val_loss: 0.6216 - val_acc: 0.9707\n",
            "Epoch 82/100\n",
            "54000/54000 [==============================] - 0s 6us/sample - loss: 0.0373 - acc: 0.9954 - val_loss: 0.6487 - val_acc: 0.9758\n",
            "Epoch 83/100\n",
            "54000/54000 [==============================] - 0s 7us/sample - loss: 0.0364 - acc: 0.9959 - val_loss: 0.6904 - val_acc: 0.9743\n",
            "Epoch 84/100\n",
            "54000/54000 [==============================] - 0s 6us/sample - loss: 0.0366 - acc: 0.9956 - val_loss: 0.6741 - val_acc: 0.9725\n",
            "Epoch 85/100\n",
            "54000/54000 [==============================] - 0s 6us/sample - loss: 0.0368 - acc: 0.9957 - val_loss: 0.7475 - val_acc: 0.9713\n",
            "Epoch 86/100\n",
            "54000/54000 [==============================] - 0s 6us/sample - loss: 0.0332 - acc: 0.9959 - val_loss: 0.6625 - val_acc: 0.9712\n",
            "Epoch 87/100\n",
            "54000/54000 [==============================] - 0s 6us/sample - loss: 0.0295 - acc: 0.9960 - val_loss: 0.7327 - val_acc: 0.9690\n",
            "Epoch 88/100\n",
            "54000/54000 [==============================] - 0s 6us/sample - loss: 0.0344 - acc: 0.9960 - val_loss: 0.6604 - val_acc: 0.9722\n",
            "Epoch 89/100\n",
            "54000/54000 [==============================] - 0s 7us/sample - loss: 0.0343 - acc: 0.9954 - val_loss: 0.7254 - val_acc: 0.9707\n",
            "Epoch 90/100\n",
            "54000/54000 [==============================] - 0s 6us/sample - loss: 0.0308 - acc: 0.9964 - val_loss: 0.7312 - val_acc: 0.9715\n",
            "Epoch 91/100\n",
            "54000/54000 [==============================] - 0s 6us/sample - loss: 0.0307 - acc: 0.9966 - val_loss: 0.6862 - val_acc: 0.9730\n",
            "Epoch 92/100\n",
            "54000/54000 [==============================] - 0s 6us/sample - loss: 0.0229 - acc: 0.9971 - val_loss: 0.7363 - val_acc: 0.9673\n",
            "Epoch 93/100\n",
            "54000/54000 [==============================] - 0s 6us/sample - loss: 0.0300 - acc: 0.9964 - val_loss: 0.6873 - val_acc: 0.9738\n",
            "Epoch 94/100\n",
            "54000/54000 [==============================] - 0s 6us/sample - loss: 0.0242 - acc: 0.9968 - val_loss: 0.7073 - val_acc: 0.9722\n",
            "Epoch 95/100\n",
            "54000/54000 [==============================] - 0s 6us/sample - loss: 0.0228 - acc: 0.9976 - val_loss: 0.6785 - val_acc: 0.9757\n",
            "Epoch 96/100\n",
            "54000/54000 [==============================] - 0s 6us/sample - loss: 0.0303 - acc: 0.9966 - val_loss: 0.7535 - val_acc: 0.9740\n",
            "Epoch 97/100\n",
            "54000/54000 [==============================] - 0s 7us/sample - loss: 0.0310 - acc: 0.9964 - val_loss: 0.7369 - val_acc: 0.9702\n",
            "Epoch 98/100\n",
            "54000/54000 [==============================] - 0s 6us/sample - loss: 0.0279 - acc: 0.9969 - val_loss: 0.6934 - val_acc: 0.9743\n",
            "Epoch 99/100\n",
            "54000/54000 [==============================] - 0s 6us/sample - loss: 0.0423 - acc: 0.9959 - val_loss: 0.6803 - val_acc: 0.9750\n",
            "Epoch 100/100\n",
            "54000/54000 [==============================] - 0s 6us/sample - loss: 0.0190 - acc: 0.9975 - val_loss: 0.6947 - val_acc: 0.9742\n",
            "10000/10000 [==============================] - 0s 41us/sample - loss: 0.8260 - acc: 0.9730\n",
            "[0.8259607109150343, 0.973]\n"
          ],
          "name": "stdout"
        }
      ]
    },
    {
      "cell_type": "code",
      "metadata": {
        "id": "Hj6cARi7PxDE",
        "colab_type": "code",
        "outputId": "cdf6c01d-48dc-4bb9-9aa6-81000ed6f46a",
        "colab": {
          "base_uri": "https://localhost:8080/",
          "height": 126
        }
      },
      "source": [
        "\"\"\"### 挂载到google drive上\"\"\" \n",
        "from google.colab import drive\n",
        "\n",
        "# 使用工具colab的接口挂载google drive目录，这样可以从外部获取数据并且可以把训练好的模型保存在google drive上\n",
        "drive.mount('/content/gdrive')\n",
        "#model.save('/content/gdrive/My Drive/DL/mnist_model.h5')"
      ],
      "execution_count": 2,
      "outputs": [
        {
          "output_type": "stream",
          "text": [
            "Go to this URL in a browser: https://accounts.google.com/o/oauth2/auth?client_id=947318989803-6bn6qk8qdgf4n4g3pfee6491hc0brc4i.apps.googleusercontent.com&redirect_uri=urn%3Aietf%3Awg%3Aoauth%3A2.0%3Aoob&scope=email%20https%3A%2F%2Fwww.googleapis.com%2Fauth%2Fdocs.test%20https%3A%2F%2Fwww.googleapis.com%2Fauth%2Fdrive%20https%3A%2F%2Fwww.googleapis.com%2Fauth%2Fdrive.photos.readonly%20https%3A%2F%2Fwww.googleapis.com%2Fauth%2Fpeopleapi.readonly&response_type=code\n",
            "\n",
            "Enter your authorization code:\n",
            "··········\n",
            "Mounted at /content/gdrive\n"
          ],
          "name": "stdout"
        }
      ]
    },
    {
      "cell_type": "code",
      "metadata": {
        "id": "nYqBMbz9DPxd",
        "colab_type": "code",
        "colab": {
          "base_uri": "https://localhost:8080/",
          "height": 70
        },
        "outputId": "bf2269ea-a674-4968-e484-52d69fd1b504"
      },
      "source": [
        "key = \\\n",
        "'''\n",
        "git@github.com:Chenxi-yi/deep-learning-.git\n",
        "'''\n",
        "! mkdir -p /root/.ssh\n",
        "with open(r'/root/.ssh/id_rsa', 'w', encoding='utf8') as fh:\n",
        "    fh.write(key)\n",
        "! chmod 600 /root/.ssh/id_rsa\n",
        "! ssh-keyscan gitlab.com >> /root/.ssh/known_hosts "
      ],
      "execution_count": 1,
      "outputs": [
        {
          "output_type": "stream",
          "text": [
            "# gitlab.com:22 SSH-2.0-OpenSSH_7.2p2 Ubuntu-4ubuntu2.8\n",
            "# gitlab.com:22 SSH-2.0-OpenSSH_7.2p2 Ubuntu-4ubuntu2.8\n",
            "# gitlab.com:22 SSH-2.0-OpenSSH_7.2p2 Ubuntu-4ubuntu2.8\n"
          ],
          "name": "stdout"
        }
      ]
    },
    {
      "cell_type": "code",
      "metadata": {
        "id": "xJlIrYwv6Ebz",
        "colab_type": "code",
        "colab": {
          "base_uri": "https://localhost:8080/",
          "height": 781
        },
        "outputId": "7f28c63e-da8e-413d-8de7-5294c266c1eb"
      },
      "source": [
        "!git clone https://github.com/udacity/cn-deep-learning.git cd cn-deep-learning/dog-project"
      ],
      "execution_count": 4,
      "outputs": [
        {
          "output_type": "stream",
          "text": [
            "fatal: Too many arguments.\n",
            "\n",
            "usage: git clone [<options>] [--] <repo> [<dir>]\n",
            "\n",
            "    -v, --verbose         be more verbose\n",
            "    -q, --quiet           be more quiet\n",
            "    --progress            force progress reporting\n",
            "    -n, --no-checkout     don't create a checkout\n",
            "    --bare                create a bare repository\n",
            "    --mirror              create a mirror repository (implies bare)\n",
            "    -l, --local           to clone from a local repository\n",
            "    --no-hardlinks        don't use local hardlinks, always copy\n",
            "    -s, --shared          setup as shared repository\n",
            "    --recurse-submodules[=<pathspec>]\n",
            "                          initialize submodules in the clone\n",
            "    -j, --jobs <n>        number of submodules cloned in parallel\n",
            "    --template <template-directory>\n",
            "                          directory from which templates will be used\n",
            "    --reference <repo>    reference repository\n",
            "    --reference-if-able <repo>\n",
            "                          reference repository\n",
            "    --dissociate          use --reference only while cloning\n",
            "    -o, --origin <name>   use <name> instead of 'origin' to track upstream\n",
            "    -b, --branch <branch>\n",
            "                          checkout <branch> instead of the remote's HEAD\n",
            "    -u, --upload-pack <path>\n",
            "                          path to git-upload-pack on the remote\n",
            "    --depth <depth>       create a shallow clone of that depth\n",
            "    --shallow-since <time>\n",
            "                          create a shallow clone since a specific time\n",
            "    --shallow-exclude <revision>\n",
            "                          deepen history of shallow clone, excluding rev\n",
            "    --single-branch       clone only one branch, HEAD or --branch\n",
            "    --no-tags             don't clone any tags, and make later fetches not to follow them\n",
            "    --shallow-submodules  any cloned submodules will be shallow\n",
            "    --separate-git-dir <gitdir>\n",
            "                          separate git dir from working tree\n",
            "    -c, --config <key=value>\n",
            "                          set config inside the new repository\n",
            "    -4, --ipv4            use IPv4 addresses only\n",
            "    -6, --ipv6            use IPv6 addresses only\n",
            "    --filter <args>       object filtering\n",
            "\n"
          ],
          "name": "stdout"
        }
      ]
    },
    {
      "cell_type": "code",
      "metadata": {
        "id": "DBkBKoIu6aaI",
        "colab_type": "code",
        "colab": {}
      },
      "source": [
        ""
      ],
      "execution_count": 0,
      "outputs": []
    }
  ]
}